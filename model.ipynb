{
 "cells": [
  {
   "cell_type": "markdown",
   "source": [
    "# Will Employee Leave the Company ?"
   ],
   "metadata": {}
  },
  {
   "cell_type": "markdown",
   "source": [
    "## Import Important Libraries "
   ],
   "metadata": {}
  },
  {
   "cell_type": "code",
   "execution_count": 1,
   "source": [
    "import numpy as np\r\n",
    "import pandas as pd\r\n",
    "import matplotlib.pyplot as plt\r\n",
    "import seaborn as sn\r\n",
    "import pickle"
   ],
   "outputs": [],
   "metadata": {}
  },
  {
   "cell_type": "markdown",
   "source": [
    "## Read And Explore Dataset"
   ],
   "metadata": {}
  },
  {
   "cell_type": "code",
   "execution_count": 2,
   "source": [
    "dataset = pd.read_csv(\"Employee.csv\")\r\n",
    "dataset.head()"
   ],
   "outputs": [
    {
     "output_type": "execute_result",
     "data": {
      "text/html": [
       "<div>\n",
       "<style scoped>\n",
       "    .dataframe tbody tr th:only-of-type {\n",
       "        vertical-align: middle;\n",
       "    }\n",
       "\n",
       "    .dataframe tbody tr th {\n",
       "        vertical-align: top;\n",
       "    }\n",
       "\n",
       "    .dataframe thead th {\n",
       "        text-align: right;\n",
       "    }\n",
       "</style>\n",
       "<table border=\"1\" class=\"dataframe\">\n",
       "  <thead>\n",
       "    <tr style=\"text-align: right;\">\n",
       "      <th></th>\n",
       "      <th>satisfaction_level</th>\n",
       "      <th>last_evaluation</th>\n",
       "      <th>number_project</th>\n",
       "      <th>average_montly_hours</th>\n",
       "      <th>time_spend_company</th>\n",
       "      <th>Work_accident</th>\n",
       "      <th>left</th>\n",
       "      <th>promotion_last_5years</th>\n",
       "      <th>Department</th>\n",
       "      <th>salary</th>\n",
       "    </tr>\n",
       "  </thead>\n",
       "  <tbody>\n",
       "    <tr>\n",
       "      <th>0</th>\n",
       "      <td>0.38</td>\n",
       "      <td>0.53</td>\n",
       "      <td>2</td>\n",
       "      <td>157</td>\n",
       "      <td>3</td>\n",
       "      <td>0</td>\n",
       "      <td>1</td>\n",
       "      <td>0</td>\n",
       "      <td>sales</td>\n",
       "      <td>low</td>\n",
       "    </tr>\n",
       "    <tr>\n",
       "      <th>1</th>\n",
       "      <td>0.80</td>\n",
       "      <td>0.86</td>\n",
       "      <td>5</td>\n",
       "      <td>262</td>\n",
       "      <td>6</td>\n",
       "      <td>0</td>\n",
       "      <td>1</td>\n",
       "      <td>0</td>\n",
       "      <td>sales</td>\n",
       "      <td>medium</td>\n",
       "    </tr>\n",
       "    <tr>\n",
       "      <th>2</th>\n",
       "      <td>0.11</td>\n",
       "      <td>0.88</td>\n",
       "      <td>7</td>\n",
       "      <td>272</td>\n",
       "      <td>4</td>\n",
       "      <td>0</td>\n",
       "      <td>1</td>\n",
       "      <td>0</td>\n",
       "      <td>sales</td>\n",
       "      <td>medium</td>\n",
       "    </tr>\n",
       "    <tr>\n",
       "      <th>3</th>\n",
       "      <td>0.72</td>\n",
       "      <td>0.87</td>\n",
       "      <td>5</td>\n",
       "      <td>223</td>\n",
       "      <td>5</td>\n",
       "      <td>0</td>\n",
       "      <td>1</td>\n",
       "      <td>0</td>\n",
       "      <td>sales</td>\n",
       "      <td>low</td>\n",
       "    </tr>\n",
       "    <tr>\n",
       "      <th>4</th>\n",
       "      <td>0.37</td>\n",
       "      <td>0.52</td>\n",
       "      <td>2</td>\n",
       "      <td>159</td>\n",
       "      <td>3</td>\n",
       "      <td>0</td>\n",
       "      <td>1</td>\n",
       "      <td>0</td>\n",
       "      <td>sales</td>\n",
       "      <td>low</td>\n",
       "    </tr>\n",
       "  </tbody>\n",
       "</table>\n",
       "</div>"
      ],
      "text/plain": [
       "   satisfaction_level  last_evaluation  number_project  average_montly_hours  \\\n",
       "0                0.38             0.53               2                   157   \n",
       "1                0.80             0.86               5                   262   \n",
       "2                0.11             0.88               7                   272   \n",
       "3                0.72             0.87               5                   223   \n",
       "4                0.37             0.52               2                   159   \n",
       "\n",
       "   time_spend_company  Work_accident  left  promotion_last_5years Department  \\\n",
       "0                   3              0     1                      0      sales   \n",
       "1                   6              0     1                      0      sales   \n",
       "2                   4              0     1                      0      sales   \n",
       "3                   5              0     1                      0      sales   \n",
       "4                   3              0     1                      0      sales   \n",
       "\n",
       "   salary  \n",
       "0     low  \n",
       "1  medium  \n",
       "2  medium  \n",
       "3     low  \n",
       "4     low  "
      ]
     },
     "metadata": {},
     "execution_count": 2
    }
   ],
   "metadata": {}
  },
  {
   "cell_type": "code",
   "execution_count": 3,
   "source": [
    "dataset.shape"
   ],
   "outputs": [
    {
     "output_type": "execute_result",
     "data": {
      "text/plain": [
       "(14999, 10)"
      ]
     },
     "metadata": {},
     "execution_count": 3
    }
   ],
   "metadata": {}
  },
  {
   "cell_type": "code",
   "execution_count": 4,
   "source": [
    "dataset.info()"
   ],
   "outputs": [
    {
     "output_type": "stream",
     "name": "stdout",
     "text": [
      "<class 'pandas.core.frame.DataFrame'>\n",
      "RangeIndex: 14999 entries, 0 to 14998\n",
      "Data columns (total 10 columns):\n",
      " #   Column                 Non-Null Count  Dtype  \n",
      "---  ------                 --------------  -----  \n",
      " 0   satisfaction_level     14999 non-null  float64\n",
      " 1   last_evaluation        14999 non-null  float64\n",
      " 2   number_project         14999 non-null  int64  \n",
      " 3   average_montly_hours   14999 non-null  int64  \n",
      " 4   time_spend_company     14999 non-null  int64  \n",
      " 5   Work_accident          14999 non-null  int64  \n",
      " 6   left                   14999 non-null  int64  \n",
      " 7   promotion_last_5years  14999 non-null  int64  \n",
      " 8   Department             14999 non-null  object \n",
      " 9   salary                 14999 non-null  object \n",
      "dtypes: float64(2), int64(6), object(2)\n",
      "memory usage: 1.1+ MB\n"
     ]
    }
   ],
   "metadata": {}
  },
  {
   "cell_type": "code",
   "execution_count": 5,
   "source": [
    "dataset.describe()"
   ],
   "outputs": [
    {
     "output_type": "execute_result",
     "data": {
      "text/html": [
       "<div>\n",
       "<style scoped>\n",
       "    .dataframe tbody tr th:only-of-type {\n",
       "        vertical-align: middle;\n",
       "    }\n",
       "\n",
       "    .dataframe tbody tr th {\n",
       "        vertical-align: top;\n",
       "    }\n",
       "\n",
       "    .dataframe thead th {\n",
       "        text-align: right;\n",
       "    }\n",
       "</style>\n",
       "<table border=\"1\" class=\"dataframe\">\n",
       "  <thead>\n",
       "    <tr style=\"text-align: right;\">\n",
       "      <th></th>\n",
       "      <th>satisfaction_level</th>\n",
       "      <th>last_evaluation</th>\n",
       "      <th>number_project</th>\n",
       "      <th>average_montly_hours</th>\n",
       "      <th>time_spend_company</th>\n",
       "      <th>Work_accident</th>\n",
       "      <th>left</th>\n",
       "      <th>promotion_last_5years</th>\n",
       "    </tr>\n",
       "  </thead>\n",
       "  <tbody>\n",
       "    <tr>\n",
       "      <th>count</th>\n",
       "      <td>14999.000000</td>\n",
       "      <td>14999.000000</td>\n",
       "      <td>14999.000000</td>\n",
       "      <td>14999.000000</td>\n",
       "      <td>14999.000000</td>\n",
       "      <td>14999.000000</td>\n",
       "      <td>14999.000000</td>\n",
       "      <td>14999.000000</td>\n",
       "    </tr>\n",
       "    <tr>\n",
       "      <th>mean</th>\n",
       "      <td>0.612834</td>\n",
       "      <td>0.716102</td>\n",
       "      <td>3.803054</td>\n",
       "      <td>201.050337</td>\n",
       "      <td>3.498233</td>\n",
       "      <td>0.144610</td>\n",
       "      <td>0.238083</td>\n",
       "      <td>0.021268</td>\n",
       "    </tr>\n",
       "    <tr>\n",
       "      <th>std</th>\n",
       "      <td>0.248631</td>\n",
       "      <td>0.171169</td>\n",
       "      <td>1.232592</td>\n",
       "      <td>49.943099</td>\n",
       "      <td>1.460136</td>\n",
       "      <td>0.351719</td>\n",
       "      <td>0.425924</td>\n",
       "      <td>0.144281</td>\n",
       "    </tr>\n",
       "    <tr>\n",
       "      <th>min</th>\n",
       "      <td>0.090000</td>\n",
       "      <td>0.360000</td>\n",
       "      <td>2.000000</td>\n",
       "      <td>96.000000</td>\n",
       "      <td>2.000000</td>\n",
       "      <td>0.000000</td>\n",
       "      <td>0.000000</td>\n",
       "      <td>0.000000</td>\n",
       "    </tr>\n",
       "    <tr>\n",
       "      <th>25%</th>\n",
       "      <td>0.440000</td>\n",
       "      <td>0.560000</td>\n",
       "      <td>3.000000</td>\n",
       "      <td>156.000000</td>\n",
       "      <td>3.000000</td>\n",
       "      <td>0.000000</td>\n",
       "      <td>0.000000</td>\n",
       "      <td>0.000000</td>\n",
       "    </tr>\n",
       "    <tr>\n",
       "      <th>50%</th>\n",
       "      <td>0.640000</td>\n",
       "      <td>0.720000</td>\n",
       "      <td>4.000000</td>\n",
       "      <td>200.000000</td>\n",
       "      <td>3.000000</td>\n",
       "      <td>0.000000</td>\n",
       "      <td>0.000000</td>\n",
       "      <td>0.000000</td>\n",
       "    </tr>\n",
       "    <tr>\n",
       "      <th>75%</th>\n",
       "      <td>0.820000</td>\n",
       "      <td>0.870000</td>\n",
       "      <td>5.000000</td>\n",
       "      <td>245.000000</td>\n",
       "      <td>4.000000</td>\n",
       "      <td>0.000000</td>\n",
       "      <td>0.000000</td>\n",
       "      <td>0.000000</td>\n",
       "    </tr>\n",
       "    <tr>\n",
       "      <th>max</th>\n",
       "      <td>1.000000</td>\n",
       "      <td>1.000000</td>\n",
       "      <td>7.000000</td>\n",
       "      <td>310.000000</td>\n",
       "      <td>10.000000</td>\n",
       "      <td>1.000000</td>\n",
       "      <td>1.000000</td>\n",
       "      <td>1.000000</td>\n",
       "    </tr>\n",
       "  </tbody>\n",
       "</table>\n",
       "</div>"
      ],
      "text/plain": [
       "       satisfaction_level  last_evaluation  number_project  \\\n",
       "count        14999.000000     14999.000000    14999.000000   \n",
       "mean             0.612834         0.716102        3.803054   \n",
       "std              0.248631         0.171169        1.232592   \n",
       "min              0.090000         0.360000        2.000000   \n",
       "25%              0.440000         0.560000        3.000000   \n",
       "50%              0.640000         0.720000        4.000000   \n",
       "75%              0.820000         0.870000        5.000000   \n",
       "max              1.000000         1.000000        7.000000   \n",
       "\n",
       "       average_montly_hours  time_spend_company  Work_accident          left  \\\n",
       "count          14999.000000        14999.000000   14999.000000  14999.000000   \n",
       "mean             201.050337            3.498233       0.144610      0.238083   \n",
       "std               49.943099            1.460136       0.351719      0.425924   \n",
       "min               96.000000            2.000000       0.000000      0.000000   \n",
       "25%              156.000000            3.000000       0.000000      0.000000   \n",
       "50%              200.000000            3.000000       0.000000      0.000000   \n",
       "75%              245.000000            4.000000       0.000000      0.000000   \n",
       "max              310.000000           10.000000       1.000000      1.000000   \n",
       "\n",
       "       promotion_last_5years  \n",
       "count           14999.000000  \n",
       "mean                0.021268  \n",
       "std                 0.144281  \n",
       "min                 0.000000  \n",
       "25%                 0.000000  \n",
       "50%                 0.000000  \n",
       "75%                 0.000000  \n",
       "max                 1.000000  "
      ]
     },
     "metadata": {},
     "execution_count": 5
    }
   ],
   "metadata": {}
  },
  {
   "cell_type": "markdown",
   "source": [
    "### Checking for number of NaN values"
   ],
   "metadata": {}
  },
  {
   "cell_type": "code",
   "execution_count": 6,
   "source": [
    "dataset.isnull().sum()"
   ],
   "outputs": [
    {
     "output_type": "execute_result",
     "data": {
      "text/plain": [
       "satisfaction_level       0\n",
       "last_evaluation          0\n",
       "number_project           0\n",
       "average_montly_hours     0\n",
       "time_spend_company       0\n",
       "Work_accident            0\n",
       "left                     0\n",
       "promotion_last_5years    0\n",
       "Department               0\n",
       "salary                   0\n",
       "dtype: int64"
      ]
     },
     "metadata": {},
     "execution_count": 6
    }
   ],
   "metadata": {}
  },
  {
   "cell_type": "markdown",
   "source": [
    "## Exploratory Data Analysis"
   ],
   "metadata": {}
  },
  {
   "cell_type": "markdown",
   "source": [
    "### Finding the correlation between features"
   ],
   "metadata": {}
  },
  {
   "cell_type": "code",
   "execution_count": 7,
   "source": [
    "plt.figure(figsize= (6,6))\r\n",
    "sn.heatmap(dataset.corr(), annot = True)\r\n",
    "plt.show()"
   ],
   "outputs": [
    {
     "output_type": "display_data",
     "data": {
      "image/png": "[encoded data removed]",
      "text/plain": [
       "<Figure size 432x432 with 2 Axes>"
      ]
     },
     "metadata": {
      "needs_background": "light"
     }
    }
   ],
   "metadata": {}
  },
  {
   "cell_type": "markdown",
   "source": [
    "### Finding the correlation with target variable"
   ],
   "metadata": {}
  },
  {
   "cell_type": "code",
   "execution_count": 8,
   "source": [
    "dataset.corrwith(dataset[\"left\"]).sort_values(ascending=False)"
   ],
   "outputs": [
    {
     "output_type": "execute_result",
     "data": {
      "text/plain": [
       "left                     1.000000\n",
       "time_spend_company       0.144822\n",
       "average_montly_hours     0.071287\n",
       "number_project           0.023787\n",
       "last_evaluation          0.006567\n",
       "promotion_last_5years   -0.061788\n",
       "Work_accident           -0.154622\n",
       "satisfaction_level      -0.388375\n",
       "dtype: float64"
      ]
     },
     "metadata": {},
     "execution_count": 8
    }
   ],
   "metadata": {}
  },
  {
   "cell_type": "code",
   "execution_count": 9,
   "source": [
    "sn.countplot(x= dataset[\"left\"])\r\n",
    "plt.show()"
   ],
   "outputs": [
    {
     "output_type": "display_data",
     "data": {
      "image/png": "[encoded data removed]",
      "text/plain": [
       "<Figure size 432x288 with 1 Axes>"
      ]
     },
     "metadata": {
      "needs_background": "light"
     }
    }
   ],
   "metadata": {}
  },
  {
   "cell_type": "markdown",
   "source": [
    "### Number of Distinct Departments"
   ],
   "metadata": {}
  },
  {
   "cell_type": "code",
   "execution_count": 10,
   "source": [
    "dataset[\"Department\"].nunique()"
   ],
   "outputs": [
    {
     "output_type": "execute_result",
     "data": {
      "text/plain": [
       "10"
      ]
     },
     "metadata": {},
     "execution_count": 10
    }
   ],
   "metadata": {}
  },
  {
   "cell_type": "markdown",
   "source": [
    "## Number of Employee per department"
   ],
   "metadata": {}
  },
  {
   "cell_type": "code",
   "execution_count": 11,
   "source": [
    "plt.figure(figsize=(10,6))\r\n",
    "sn.countplot(x=dataset[\"Department\"])\r\n",
    "plt.show()"
   ],
   "outputs": [
    {
     "output_type": "display_data",
     "data": {
      "image/png": "[encoded data removed]",
      "text/plain": [
       "<Figure size 720x432 with 1 Axes>"
      ]
     },
     "metadata": {
      "needs_background": "light"
     }
    }
   ],
   "metadata": {}
  },
  {
   "cell_type": "markdown",
   "source": [
    "### Department wise Salary comparision"
   ],
   "metadata": {}
  },
  {
   "cell_type": "code",
   "execution_count": 12,
   "source": [
    "plt.figure(figsize=(13,6))\r\n",
    "sn.countplot(x=\"Department\", hue=\"salary\", data=dataset)\r\n",
    "plt.show()"
   ],
   "outputs": [
    {
     "output_type": "display_data",
     "data": {
      "image/png": "[encoded data removed]",
      "text/plain": [
       "<Figure size 936x432 with 1 Axes>"
      ]
     },
     "metadata": {
      "needs_background": "light"
     }
    }
   ],
   "metadata": {}
  },
  {
   "cell_type": "code",
   "execution_count": 13,
   "source": [
    "sn.pointplot(x=dataset[\"number_project\"],y=dataset[\"satisfaction_level\"])\r\n",
    "plt.show()"
   ],
   "outputs": [
    {
     "output_type": "display_data",
     "data": {
      "image/png": "[encoded data removed]",
      "text/plain": [
       "<Figure size 432x288 with 1 Axes>"
      ]
     },
     "metadata": {
      "needs_background": "light"
     }
    }
   ],
   "metadata": {}
  },
  {
   "cell_type": "code",
   "execution_count": 14,
   "source": [
    "sn.pointplot(x=dataset[\"time_spend_company\"],y=dataset[\"satisfaction_level\"])\r\n",
    "plt.show()"
   ],
   "outputs": [
    {
     "output_type": "display_data",
     "data": {
      "image/png": "[encoded data removed]",
      "text/plain": [
       "<Figure size 432x288 with 1 Axes>"
      ]
     },
     "metadata": {
      "needs_background": "light"
     }
    }
   ],
   "metadata": {}
  },
  {
   "cell_type": "code",
   "execution_count": 15,
   "source": [
    "sn.pointplot(x=dataset[\"average_montly_hours\"],y=dataset[\"Department\"])\r\n",
    "plt.show()"
   ],
   "outputs": [
    {
     "output_type": "display_data",
     "data": {
      "image/png": "[encoded data removed]",
      "text/plain": [
       "<Figure size 432x288 with 1 Axes>"
      ]
     },
     "metadata": {
      "needs_background": "light"
     }
    }
   ],
   "metadata": {}
  },
  {
   "cell_type": "code",
   "execution_count": 16,
   "source": [
    "sn.pointplot(x=dataset[\"salary\"], y = dataset[\"average_montly_hours\"])\r\n",
    "plt.show()"
   ],
   "outputs": [
    {
     "output_type": "display_data",
     "data": {
      "image/png": "[encoded data removed]",
      "text/plain": [
       "<Figure size 432x288 with 1 Axes>"
      ]
     },
     "metadata": {
      "needs_background": "light"
     }
    }
   ],
   "metadata": {}
  },
  {
   "cell_type": "markdown",
   "source": [
    "## Salary VS Count"
   ],
   "metadata": {}
  },
  {
   "cell_type": "code",
   "execution_count": 17,
   "source": [
    "sn.countplot(x= dataset[\"salary\"])\r\n",
    "plt.show()"
   ],
   "outputs": [
    {
     "output_type": "display_data",
     "data": {
      "image/png": "[encoded data removed]",
      "text/plain": [
       "<Figure size 432x288 with 1 Axes>"
      ]
     },
     "metadata": {
      "needs_background": "light"
     }
    }
   ],
   "metadata": {}
  },
  {
   "cell_type": "markdown",
   "source": [
    "## Data Cleaning"
   ],
   "metadata": {}
  },
  {
   "cell_type": "markdown",
   "source": [
    "### Converting Categorical Variables to numeric"
   ],
   "metadata": {}
  },
  {
   "cell_type": "code",
   "execution_count": 18,
   "source": [
    "low, medium, high = 1, 2, 3\r\n",
    "dataset[\"salary\"] = dataset[\"salary\"].replace({\"low\":low, \"medium\":medium, \"high\":high})"
   ],
   "outputs": [],
   "metadata": {}
  },
  {
   "cell_type": "code",
   "execution_count": 19,
   "source": [
    "dummy_data = pd.get_dummies(dataset[\"Department\"])\r\n",
    "dummy_data.head()"
   ],
   "outputs": [
    {
     "output_type": "execute_result",
     "data": {
      "text/html": [
       "<div>\n",
       "<style scoped>\n",
       "    .dataframe tbody tr th:only-of-type {\n",
       "        vertical-align: middle;\n",
       "    }\n",
       "\n",
       "    .dataframe tbody tr th {\n",
       "        vertical-align: top;\n",
       "    }\n",
       "\n",
       "    .dataframe thead th {\n",
       "        text-align: right;\n",
       "    }\n",
       "</style>\n",
       "<table border=\"1\" class=\"dataframe\">\n",
       "  <thead>\n",
       "    <tr style=\"text-align: right;\">\n",
       "      <th></th>\n",
       "      <th>IT</th>\n",
       "      <th>RandD</th>\n",
       "      <th>accounting</th>\n",
       "      <th>hr</th>\n",
       "      <th>management</th>\n",
       "      <th>marketing</th>\n",
       "      <th>product_mng</th>\n",
       "      <th>sales</th>\n",
       "      <th>support</th>\n",
       "      <th>technical</th>\n",
       "    </tr>\n",
       "  </thead>\n",
       "  <tbody>\n",
       "    <tr>\n",
       "      <th>0</th>\n",
       "      <td>0</td>\n",
       "      <td>0</td>\n",
       "      <td>0</td>\n",
       "      <td>0</td>\n",
       "      <td>0</td>\n",
       "      <td>0</td>\n",
       "      <td>0</td>\n",
       "      <td>1</td>\n",
       "      <td>0</td>\n",
       "      <td>0</td>\n",
       "    </tr>\n",
       "    <tr>\n",
       "      <th>1</th>\n",
       "      <td>0</td>\n",
       "      <td>0</td>\n",
       "      <td>0</td>\n",
       "      <td>0</td>\n",
       "      <td>0</td>\n",
       "      <td>0</td>\n",
       "      <td>0</td>\n",
       "      <td>1</td>\n",
       "      <td>0</td>\n",
       "      <td>0</td>\n",
       "    </tr>\n",
       "    <tr>\n",
       "      <th>2</th>\n",
       "      <td>0</td>\n",
       "      <td>0</td>\n",
       "      <td>0</td>\n",
       "      <td>0</td>\n",
       "      <td>0</td>\n",
       "      <td>0</td>\n",
       "      <td>0</td>\n",
       "      <td>1</td>\n",
       "      <td>0</td>\n",
       "      <td>0</td>\n",
       "    </tr>\n",
       "    <tr>\n",
       "      <th>3</th>\n",
       "      <td>0</td>\n",
       "      <td>0</td>\n",
       "      <td>0</td>\n",
       "      <td>0</td>\n",
       "      <td>0</td>\n",
       "      <td>0</td>\n",
       "      <td>0</td>\n",
       "      <td>1</td>\n",
       "      <td>0</td>\n",
       "      <td>0</td>\n",
       "    </tr>\n",
       "    <tr>\n",
       "      <th>4</th>\n",
       "      <td>0</td>\n",
       "      <td>0</td>\n",
       "      <td>0</td>\n",
       "      <td>0</td>\n",
       "      <td>0</td>\n",
       "      <td>0</td>\n",
       "      <td>0</td>\n",
       "      <td>1</td>\n",
       "      <td>0</td>\n",
       "      <td>0</td>\n",
       "    </tr>\n",
       "  </tbody>\n",
       "</table>\n",
       "</div>"
      ],
      "text/plain": [
       "   IT  RandD  accounting  hr  management  marketing  product_mng  sales  \\\n",
       "0   0      0           0   0           0          0            0      1   \n",
       "1   0      0           0   0           0          0            0      1   \n",
       "2   0      0           0   0           0          0            0      1   \n",
       "3   0      0           0   0           0          0            0      1   \n",
       "4   0      0           0   0           0          0            0      1   \n",
       "\n",
       "   support  technical  \n",
       "0        0          0  \n",
       "1        0          0  \n",
       "2        0          0  \n",
       "3        0          0  \n",
       "4        0          0  "
      ]
     },
     "metadata": {},
     "execution_count": 19
    }
   ],
   "metadata": {}
  },
  {
   "cell_type": "code",
   "execution_count": 20,
   "source": [
    "dataset = pd.concat([dataset.drop(\"Department\", axis=1), dummy_data], axis=1)\r\n",
    "dataset.head()"
   ],
   "outputs": [
    {
     "output_type": "execute_result",
     "data": {
      "text/html": [
       "<div>\n",
       "<style scoped>\n",
       "    .dataframe tbody tr th:only-of-type {\n",
       "        vertical-align: middle;\n",
       "    }\n",
       "\n",
       "    .dataframe tbody tr th {\n",
       "        vertical-align: top;\n",
       "    }\n",
       "\n",
       "    .dataframe thead th {\n",
       "        text-align: right;\n",
       "    }\n",
       "</style>\n",
       "<table border=\"1\" class=\"dataframe\">\n",
       "  <thead>\n",
       "    <tr style=\"text-align: right;\">\n",
       "      <th></th>\n",
       "      <th>satisfaction_level</th>\n",
       "      <th>last_evaluation</th>\n",
       "      <th>number_project</th>\n",
       "      <th>average_montly_hours</th>\n",
       "      <th>time_spend_company</th>\n",
       "      <th>Work_accident</th>\n",
       "      <th>left</th>\n",
       "      <th>promotion_last_5years</th>\n",
       "      <th>salary</th>\n",
       "      <th>IT</th>\n",
       "      <th>RandD</th>\n",
       "      <th>accounting</th>\n",
       "      <th>hr</th>\n",
       "      <th>management</th>\n",
       "      <th>marketing</th>\n",
       "      <th>product_mng</th>\n",
       "      <th>sales</th>\n",
       "      <th>support</th>\n",
       "      <th>technical</th>\n",
       "    </tr>\n",
       "  </thead>\n",
       "  <tbody>\n",
       "    <tr>\n",
       "      <th>0</th>\n",
       "      <td>0.38</td>\n",
       "      <td>0.53</td>\n",
       "      <td>2</td>\n",
       "      <td>157</td>\n",
       "      <td>3</td>\n",
       "      <td>0</td>\n",
       "      <td>1</td>\n",
       "      <td>0</td>\n",
       "      <td>1</td>\n",
       "      <td>0</td>\n",
       "      <td>0</td>\n",
       "      <td>0</td>\n",
       "      <td>0</td>\n",
       "      <td>0</td>\n",
       "      <td>0</td>\n",
       "      <td>0</td>\n",
       "      <td>1</td>\n",
       "      <td>0</td>\n",
       "      <td>0</td>\n",
       "    </tr>\n",
       "    <tr>\n",
       "      <th>1</th>\n",
       "      <td>0.80</td>\n",
       "      <td>0.86</td>\n",
       "      <td>5</td>\n",
       "      <td>262</td>\n",
       "      <td>6</td>\n",
       "      <td>0</td>\n",
       "      <td>1</td>\n",
       "      <td>0</td>\n",
       "      <td>2</td>\n",
       "      <td>0</td>\n",
       "      <td>0</td>\n",
       "      <td>0</td>\n",
       "      <td>0</td>\n",
       "      <td>0</td>\n",
       "      <td>0</td>\n",
       "      <td>0</td>\n",
       "      <td>1</td>\n",
       "      <td>0</td>\n",
       "      <td>0</td>\n",
       "    </tr>\n",
       "    <tr>\n",
       "      <th>2</th>\n",
       "      <td>0.11</td>\n",
       "      <td>0.88</td>\n",
       "      <td>7</td>\n",
       "      <td>272</td>\n",
       "      <td>4</td>\n",
       "      <td>0</td>\n",
       "      <td>1</td>\n",
       "      <td>0</td>\n",
       "      <td>2</td>\n",
       "      <td>0</td>\n",
       "      <td>0</td>\n",
       "      <td>0</td>\n",
       "      <td>0</td>\n",
       "      <td>0</td>\n",
       "      <td>0</td>\n",
       "      <td>0</td>\n",
       "      <td>1</td>\n",
       "      <td>0</td>\n",
       "      <td>0</td>\n",
       "    </tr>\n",
       "    <tr>\n",
       "      <th>3</th>\n",
       "      <td>0.72</td>\n",
       "      <td>0.87</td>\n",
       "      <td>5</td>\n",
       "      <td>223</td>\n",
       "      <td>5</td>\n",
       "      <td>0</td>\n",
       "      <td>1</td>\n",
       "      <td>0</td>\n",
       "      <td>1</td>\n",
       "      <td>0</td>\n",
       "      <td>0</td>\n",
       "      <td>0</td>\n",
       "      <td>0</td>\n",
       "      <td>0</td>\n",
       "      <td>0</td>\n",
       "      <td>0</td>\n",
       "      <td>1</td>\n",
       "      <td>0</td>\n",
       "      <td>0</td>\n",
       "    </tr>\n",
       "    <tr>\n",
       "      <th>4</th>\n",
       "      <td>0.37</td>\n",
       "      <td>0.52</td>\n",
       "      <td>2</td>\n",
       "      <td>159</td>\n",
       "      <td>3</td>\n",
       "      <td>0</td>\n",
       "      <td>1</td>\n",
       "      <td>0</td>\n",
       "      <td>1</td>\n",
       "      <td>0</td>\n",
       "      <td>0</td>\n",
       "      <td>0</td>\n",
       "      <td>0</td>\n",
       "      <td>0</td>\n",
       "      <td>0</td>\n",
       "      <td>0</td>\n",
       "      <td>1</td>\n",
       "      <td>0</td>\n",
       "      <td>0</td>\n",
       "    </tr>\n",
       "  </tbody>\n",
       "</table>\n",
       "</div>"
      ],
      "text/plain": [
       "   satisfaction_level  last_evaluation  number_project  average_montly_hours  \\\n",
       "0                0.38             0.53               2                   157   \n",
       "1                0.80             0.86               5                   262   \n",
       "2                0.11             0.88               7                   272   \n",
       "3                0.72             0.87               5                   223   \n",
       "4                0.37             0.52               2                   159   \n",
       "\n",
       "   time_spend_company  Work_accident  left  promotion_last_5years  salary  IT  \\\n",
       "0                   3              0     1                      0       1   0   \n",
       "1                   6              0     1                      0       2   0   \n",
       "2                   4              0     1                      0       2   0   \n",
       "3                   5              0     1                      0       1   0   \n",
       "4                   3              0     1                      0       1   0   \n",
       "\n",
       "   RandD  accounting  hr  management  marketing  product_mng  sales  support  \\\n",
       "0      0           0   0           0          0            0      1        0   \n",
       "1      0           0   0           0          0            0      1        0   \n",
       "2      0           0   0           0          0            0      1        0   \n",
       "3      0           0   0           0          0            0      1        0   \n",
       "4      0           0   0           0          0            0      1        0   \n",
       "\n",
       "   technical  \n",
       "0          0  \n",
       "1          0  \n",
       "2          0  \n",
       "3          0  \n",
       "4          0  "
      ]
     },
     "metadata": {},
     "execution_count": 20
    }
   ],
   "metadata": {}
  },
  {
   "cell_type": "code",
   "execution_count": 21,
   "source": [
    "X, y = dataset.drop(\"left\", axis=1), dataset[\"left\"] "
   ],
   "outputs": [],
   "metadata": {}
  },
  {
   "cell_type": "markdown",
   "source": [
    "## Strandlising Data"
   ],
   "metadata": {}
  },
  {
   "cell_type": "code",
   "execution_count": 22,
   "source": [
    "from sklearn.preprocessing import StandardScaler\r\n",
    "sc_scale = StandardScaler()\r\n",
    "X = sc_scale.fit_transform(X)\r\n",
    "pickle.dump(sc_scale, open('sc_scaler.pkl','wb'))"
   ],
   "outputs": [],
   "metadata": {}
  },
  {
   "cell_type": "markdown",
   "source": [
    "## Spliting the data into train and test data"
   ],
   "metadata": {}
  },
  {
   "cell_type": "code",
   "execution_count": 23,
   "source": [
    "from sklearn.model_selection import train_test_split\r\n",
    "X_train, X_test, y_train, y_test = train_test_split(X, y, test_size = 0.3, random_state = 1)"
   ],
   "outputs": [],
   "metadata": {}
  },
  {
   "cell_type": "markdown",
   "source": [
    "## Using Support Vector Machine Algorithm"
   ],
   "metadata": {}
  },
  {
   "cell_type": "code",
   "execution_count": 24,
   "source": [
    "from sklearn.svm import SVC\r\n",
    "svc_classifier = SVC(kernel=\"rbf\", random_state=1)\r\n",
    "svc_classifier.fit(X_train, y_train)"
   ],
   "outputs": [
    {
     "output_type": "execute_result",
     "data": {
      "text/plain": [
       "SVC(random_state=1)"
      ]
     },
     "metadata": {},
     "execution_count": 24
    }
   ],
   "metadata": {}
  },
  {
   "cell_type": "code",
   "execution_count": 25,
   "source": [
    "from sklearn.metrics import accuracy_score\r\n",
    "print(\"Accuracy of SVM Classifier : \", round(accuracy_score(y_test, svc_classifier.predict(X_test))*100), \"%\")"
   ],
   "outputs": [
    {
     "output_type": "stream",
     "name": "stdout",
     "text": [
      "Accuracy of SVM Classifier :  95.0 %\n"
     ]
    }
   ],
   "metadata": {}
  },
  {
   "cell_type": "markdown",
   "source": [
    "## Using Logistic Regression Algorithm"
   ],
   "metadata": {}
  },
  {
   "cell_type": "code",
   "execution_count": 26,
   "source": [
    "from sklearn.linear_model import LogisticRegression\r\n",
    "lr_classifier = LogisticRegression()\r\n",
    "lr_classifier.fit(X_train, y_train)"
   ],
   "outputs": [
    {
     "output_type": "execute_result",
     "data": {
      "text/plain": [
       "LogisticRegression()"
      ]
     },
     "metadata": {},
     "execution_count": 26
    }
   ],
   "metadata": {}
  },
  {
   "cell_type": "code",
   "execution_count": 27,
   "source": [
    "print(\"Accuracy of Logistic Regression Classifier : \", round(accuracy_score(y_test, lr_classifier.predict(X_test))*100), \"%\")"
   ],
   "outputs": [
    {
     "output_type": "stream",
     "name": "stdout",
     "text": [
      "Accuracy of Logistic Regression Classifier :  79.0 %\n"
     ]
    }
   ],
   "metadata": {}
  },
  {
   "cell_type": "markdown",
   "source": [
    "## Using KNN Algorithm"
   ],
   "metadata": {}
  },
  {
   "cell_type": "code",
   "execution_count": 28,
   "source": [
    "from sklearn.neighbors import KNeighborsClassifier\r\n",
    "knn_classifier = KNeighborsClassifier(n_neighbors=5)\r\n",
    "knn_classifier.fit(X_train, y_train)"
   ],
   "outputs": [
    {
     "output_type": "execute_result",
     "data": {
      "text/plain": [
       "KNeighborsClassifier()"
      ]
     },
     "metadata": {},
     "execution_count": 28
    }
   ],
   "metadata": {}
  },
  {
   "cell_type": "code",
   "execution_count": 29,
   "source": [
    "print(\"Accuracy of KNN Classifier : \", round(accuracy_score(y_test, lr_classifier.predict(X_test))*100), \"%\")"
   ],
   "outputs": [
    {
     "output_type": "stream",
     "name": "stdout",
     "text": [
      "Accuracy of KNN Classifier :  79.0 %\n"
     ]
    }
   ],
   "metadata": {}
  },
  {
   "cell_type": "markdown",
   "source": [
    "## Using Random Forest Algorithm"
   ],
   "metadata": {}
  },
  {
   "cell_type": "code",
   "execution_count": 30,
   "source": [
    "from sklearn.ensemble import RandomForestClassifier\r\n",
    "rf_classifier = RandomForestClassifier(n_estimators=120)\r\n",
    "rf_classifier.fit(X_train, y_train)"
   ],
   "outputs": [
    {
     "output_type": "execute_result",
     "data": {
      "text/plain": [
       "RandomForestClassifier(n_estimators=120)"
      ]
     },
     "metadata": {},
     "execution_count": 30
    }
   ],
   "metadata": {}
  },
  {
   "cell_type": "code",
   "execution_count": 31,
   "source": [
    "print(\"Accuracy of Random Forest Classifier : \", round(accuracy_score(y_test, rf_classifier.predict(X_test))*100), \"%\")"
   ],
   "outputs": [
    {
     "output_type": "stream",
     "name": "stdout",
     "text": [
      "Accuracy of Random Forest Classifier :  99.0 %\n"
     ]
    }
   ],
   "metadata": {}
  },
  {
   "cell_type": "markdown",
   "source": [
    "## Using XG Boost Algorithm"
   ],
   "metadata": {}
  },
  {
   "cell_type": "code",
   "execution_count": 32,
   "source": [
    "from xgboost import XGBClassifier\r\n",
    "xgb_classifier = XGBClassifier()\r\n",
    "xgb_classifier.fit(X_train, y_train)"
   ],
   "outputs": [
    {
     "output_type": "stream",
     "name": "stderr",
     "text": [
      "C:\\Users\\HP\\AppData\\Local\\Programs\\Python\\Python38\\lib\\site-packages\\xgboost\\sklearn.py:892: UserWarning: The use of label encoder in XGBClassifier is deprecated and will be removed in a future release. To remove this warning, do the following: 1) Pass option use_label_encoder=False when constructing XGBClassifier object; and 2) Encode your labels (y) as integers starting with 0, i.e. 0, 1, 2, ..., [num_class - 1].\n",
      "  warnings.warn(label_encoder_deprecation_msg, UserWarning)\n"
     ]
    },
    {
     "output_type": "stream",
     "name": "stdout",
     "text": [
      "[20:35:42] WARNING: C:/Users/Administrator/workspace/xgboost-win64_release_1.3.0/src/learner.cc:1061: Starting in XGBoost 1.3.0, the default evaluation metric used with the objective 'binary:logistic' was changed from 'error' to 'logloss'. Explicitly set eval_metric if you'd like to restore the old behavior.\n"
     ]
    },
    {
     "output_type": "execute_result",
     "data": {
      "text/plain": [
       "XGBClassifier(base_score=0.5, booster='gbtree', colsample_bylevel=1,\n",
       "              colsample_bynode=1, colsample_bytree=1, gamma=0, gpu_id=-1,\n",
       "              importance_type='gain', interaction_constraints='',\n",
       "              learning_rate=0.300000012, max_delta_step=0, max_depth=6,\n",
       "              min_child_weight=1, missing=nan, monotone_constraints='()',\n",
       "              n_estimators=100, n_jobs=8, num_parallel_tree=1, random_state=0,\n",
       "              reg_alpha=0, reg_lambda=1, scale_pos_weight=1, subsample=1,\n",
       "              tree_method='exact', validate_parameters=1, verbosity=None)"
      ]
     },
     "metadata": {},
     "execution_count": 32
    }
   ],
   "metadata": {}
  },
  {
   "cell_type": "code",
   "execution_count": 33,
   "source": [
    "print(\"Accuracy of XGBoost Classifier : \", round(accuracy_score(y_test, xgb_classifier.predict(X_test))*100), \"%\")"
   ],
   "outputs": [
    {
     "output_type": "stream",
     "name": "stdout",
     "text": [
      "Accuracy of XGBoost Classifier :  99.0 %\n"
     ]
    }
   ],
   "metadata": {}
  },
  {
   "cell_type": "markdown",
   "source": [
    "## Creating Artificial Neural Network"
   ],
   "metadata": {}
  },
  {
   "cell_type": "code",
   "execution_count": 34,
   "source": [
    "from keras.models import Sequential\r\n",
    "from keras.layers import Dense\r\n",
    "from keras.layers import LeakyReLU, PReLU, ELU"
   ],
   "outputs": [],
   "metadata": {}
  },
  {
   "cell_type": "code",
   "execution_count": 35,
   "source": [
    "classifier = Sequential()"
   ],
   "outputs": [],
   "metadata": {}
  },
  {
   "cell_type": "code",
   "execution_count": 36,
   "source": [
    "classifier.add(Dense(input_dim=18, units=10, kernel_initializer=\"he_uniform\", activation=\"relu\"))\r\n",
    "classifier.add(Dense(units=8, kernel_initializer=\"he_uniform\", activation=\"relu\"))\r\n",
    "classifier.add(Dense(units=6, kernel_initializer=\"he_uniform\", activation=\"relu\"))\r\n",
    "classifier.add(Dense(units=1, kernel_initializer=\"glorot_uniform\", activation=\"sigmoid\"))"
   ],
   "outputs": [],
   "metadata": {}
  },
  {
   "cell_type": "code",
   "execution_count": 37,
   "source": [
    "classifier.summary()"
   ],
   "outputs": [
    {
     "output_type": "stream",
     "name": "stdout",
     "text": [
      "Model: \"sequential\"\n",
      "_________________________________________________________________\n",
      "Layer (type)                 Output Shape              Param #   \n",
      "=================================================================\n",
      "dense (Dense)                (None, 10)                190       \n",
      "_________________________________________________________________\n",
      "dense_1 (Dense)              (None, 8)                 88        \n",
      "_________________________________________________________________\n",
      "dense_2 (Dense)              (None, 6)                 54        \n",
      "_________________________________________________________________\n",
      "dense_3 (Dense)              (None, 1)                 7         \n",
      "=================================================================\n",
      "Total params: 339\n",
      "Trainable params: 339\n",
      "Non-trainable params: 0\n",
      "_________________________________________________________________\n"
     ]
    }
   ],
   "metadata": {}
  },
  {
   "cell_type": "code",
   "execution_count": 38,
   "source": [
    "classifier.compile(optimizer=\"Adamax\", loss='binary_crossentropy', metrics=['accuracy'])"
   ],
   "outputs": [],
   "metadata": {}
  },
  {
   "cell_type": "code",
   "execution_count": 39,
   "source": [
    "ann_classifier = classifier.fit(X_train, y_train, batch_size=10, validation_split=0.2, epochs=200)"
   ],
   "outputs": [
    {
     "output_type": "stream",
     "name": "stdout",
     "text": [
      "Epoch 1/200\n",
      "840/840 [==============================] - 1s 1ms/step - loss: 0.6319 - accuracy: 0.6488 - val_loss: 0.4806 - val_accuracy: 0.7833\n",
      "Epoch 2/200\n",
      "840/840 [==============================] - 1s 1ms/step - loss: 0.4330 - accuracy: 0.8063 - val_loss: 0.3788 - val_accuracy: 0.8471\n",
      "Epoch 3/200\n",
      "840/840 [==============================] - 1s 1ms/step - loss: 0.3643 - accuracy: 0.8606 - val_loss: 0.3303 - val_accuracy: 0.8986\n",
      "Epoch 4/200\n",
      "840/840 [==============================] - 1s 1ms/step - loss: 0.3266 - accuracy: 0.8908 - val_loss: 0.3024 - val_accuracy: 0.9038\n",
      "Epoch 5/200\n",
      "840/840 [==============================] - 1s 1ms/step - loss: 0.3017 - accuracy: 0.8993 - val_loss: 0.2846 - val_accuracy: 0.9090\n",
      "Epoch 6/200\n",
      "840/840 [==============================] - 1s 1ms/step - loss: 0.2846 - accuracy: 0.9044 - val_loss: 0.2698 - val_accuracy: 0.9081\n",
      "Epoch 7/200\n",
      "840/840 [==============================] - 1s 1ms/step - loss: 0.2705 - accuracy: 0.9075 - val_loss: 0.2599 - val_accuracy: 0.9143\n",
      "Epoch 8/200\n",
      "840/840 [==============================] - 1s 1ms/step - loss: 0.2599 - accuracy: 0.9107 - val_loss: 0.2513 - val_accuracy: 0.9157\n",
      "Epoch 9/200\n",
      "840/840 [==============================] - 1s 1ms/step - loss: 0.2514 - accuracy: 0.9132 - val_loss: 0.2446 - val_accuracy: 0.9224\n",
      "Epoch 10/200\n",
      "840/840 [==============================] - 1s 1ms/step - loss: 0.2441 - accuracy: 0.9174 - val_loss: 0.2386 - val_accuracy: 0.9224\n",
      "Epoch 11/200\n",
      "840/840 [==============================] - 1s 1ms/step - loss: 0.2374 - accuracy: 0.9188 - val_loss: 0.2341 - val_accuracy: 0.9257\n",
      "Epoch 12/200\n",
      "840/840 [==============================] - 1s 1ms/step - loss: 0.2313 - accuracy: 0.9219 - val_loss: 0.2290 - val_accuracy: 0.9248\n",
      "Epoch 13/200\n",
      "840/840 [==============================] - 1s 1ms/step - loss: 0.2263 - accuracy: 0.9248 - val_loss: 0.2237 - val_accuracy: 0.9276\n",
      "Epoch 14/200\n",
      "840/840 [==============================] - 1s 1ms/step - loss: 0.2214 - accuracy: 0.9250 - val_loss: 0.2203 - val_accuracy: 0.9276\n",
      "Epoch 15/200\n",
      "840/840 [==============================] - 1s 1ms/step - loss: 0.2173 - accuracy: 0.9268 - val_loss: 0.2170 - val_accuracy: 0.9290\n",
      "Epoch 16/200\n",
      "840/840 [==============================] - 1s 1ms/step - loss: 0.2131 - accuracy: 0.9265 - val_loss: 0.2139 - val_accuracy: 0.9310\n",
      "Epoch 17/200\n",
      "840/840 [==============================] - 1s 1ms/step - loss: 0.2095 - accuracy: 0.9270 - val_loss: 0.2117 - val_accuracy: 0.9310\n",
      "Epoch 18/200\n",
      "840/840 [==============================] - 1s 1ms/step - loss: 0.2066 - accuracy: 0.9283 - val_loss: 0.2078 - val_accuracy: 0.9333\n",
      "Epoch 19/200\n",
      "840/840 [==============================] - 1s 1ms/step - loss: 0.2033 - accuracy: 0.9290 - val_loss: 0.2050 - val_accuracy: 0.9343\n",
      "Epoch 20/200\n",
      "840/840 [==============================] - 1s 1ms/step - loss: 0.2008 - accuracy: 0.9299 - val_loss: 0.2025 - val_accuracy: 0.9348\n",
      "Epoch 21/200\n",
      "840/840 [==============================] - 1s 2ms/step - loss: 0.1976 - accuracy: 0.9301 - val_loss: 0.1999 - val_accuracy: 0.9348\n",
      "Epoch 22/200\n",
      "840/840 [==============================] - 2s 2ms/step - loss: 0.1948 - accuracy: 0.9326 - val_loss: 0.1972 - val_accuracy: 0.9376\n",
      "Epoch 23/200\n",
      "840/840 [==============================] - 2s 2ms/step - loss: 0.1921 - accuracy: 0.9330 - val_loss: 0.1947 - val_accuracy: 0.9381\n",
      "Epoch 24/200\n",
      "840/840 [==============================] - 2s 2ms/step - loss: 0.1892 - accuracy: 0.9338 - val_loss: 0.1923 - val_accuracy: 0.9381\n",
      "Epoch 25/200\n",
      "840/840 [==============================] - 2s 2ms/step - loss: 0.1862 - accuracy: 0.9343 - val_loss: 0.1914 - val_accuracy: 0.9395\n",
      "Epoch 26/200\n",
      "840/840 [==============================] - 2s 2ms/step - loss: 0.1834 - accuracy: 0.9365 - val_loss: 0.1876 - val_accuracy: 0.9405\n",
      "Epoch 27/200\n",
      "840/840 [==============================] - 1s 1ms/step - loss: 0.1808 - accuracy: 0.9363 - val_loss: 0.1848 - val_accuracy: 0.9414\n",
      "Epoch 28/200\n",
      "840/840 [==============================] - 1s 1ms/step - loss: 0.1783 - accuracy: 0.9375 - val_loss: 0.1824 - val_accuracy: 0.9433\n",
      "Epoch 29/200\n",
      "840/840 [==============================] - 1s 1ms/step - loss: 0.1752 - accuracy: 0.9387 - val_loss: 0.1810 - val_accuracy: 0.9457\n",
      "Epoch 30/200\n",
      "840/840 [==============================] - 2s 2ms/step - loss: 0.1732 - accuracy: 0.9400 - val_loss: 0.1781 - val_accuracy: 0.9457\n",
      "Epoch 31/200\n",
      "840/840 [==============================] - 2s 2ms/step - loss: 0.1707 - accuracy: 0.9407 - val_loss: 0.1759 - val_accuracy: 0.9490\n",
      "Epoch 32/200\n",
      "840/840 [==============================] - 2s 2ms/step - loss: 0.1684 - accuracy: 0.9419 - val_loss: 0.1739 - val_accuracy: 0.9505\n",
      "Epoch 33/200\n",
      "840/840 [==============================] - 2s 2ms/step - loss: 0.1660 - accuracy: 0.9430 - val_loss: 0.1722 - val_accuracy: 0.9505\n",
      "Epoch 34/200\n",
      "840/840 [==============================] - 2s 3ms/step - loss: 0.1639 - accuracy: 0.9439 - val_loss: 0.1710 - val_accuracy: 0.9505\n",
      "Epoch 35/200\n",
      "840/840 [==============================] - 2s 2ms/step - loss: 0.1623 - accuracy: 0.9457 - val_loss: 0.1690 - val_accuracy: 0.9524\n",
      "Epoch 36/200\n",
      "840/840 [==============================] - 2s 2ms/step - loss: 0.1606 - accuracy: 0.9461 - val_loss: 0.1679 - val_accuracy: 0.9519\n",
      "Epoch 37/200\n",
      "840/840 [==============================] - 2s 2ms/step - loss: 0.1587 - accuracy: 0.9470 - val_loss: 0.1662 - val_accuracy: 0.9533\n",
      "Epoch 38/200\n",
      "840/840 [==============================] - 2s 2ms/step - loss: 0.1572 - accuracy: 0.9471 - val_loss: 0.1658 - val_accuracy: 0.9543\n",
      "Epoch 39/200\n",
      "840/840 [==============================] - 2s 2ms/step - loss: 0.1560 - accuracy: 0.9486 - val_loss: 0.1647 - val_accuracy: 0.9543\n",
      "Epoch 40/200\n",
      "840/840 [==============================] - 1s 1ms/step - loss: 0.1548 - accuracy: 0.9492 - val_loss: 0.1635 - val_accuracy: 0.9543\n",
      "Epoch 41/200\n",
      "840/840 [==============================] - 2s 2ms/step - loss: 0.1533 - accuracy: 0.9484 - val_loss: 0.1622 - val_accuracy: 0.9519\n",
      "Epoch 42/200\n",
      "840/840 [==============================] - 2s 2ms/step - loss: 0.1524 - accuracy: 0.9507 - val_loss: 0.1620 - val_accuracy: 0.9538\n",
      "Epoch 43/200\n",
      "840/840 [==============================] - 2s 2ms/step - loss: 0.1514 - accuracy: 0.9505 - val_loss: 0.1620 - val_accuracy: 0.9529\n",
      "Epoch 44/200\n",
      "840/840 [==============================] - 2s 2ms/step - loss: 0.1502 - accuracy: 0.9500 - val_loss: 0.1609 - val_accuracy: 0.9538\n",
      "Epoch 45/200\n",
      "840/840 [==============================] - 2s 2ms/step - loss: 0.1487 - accuracy: 0.9507 - val_loss: 0.1619 - val_accuracy: 0.9543\n",
      "Epoch 46/200\n",
      "840/840 [==============================] - 2s 2ms/step - loss: 0.1481 - accuracy: 0.9515 - val_loss: 0.1599 - val_accuracy: 0.9543\n",
      "Epoch 47/200\n",
      "840/840 [==============================] - 2s 2ms/step - loss: 0.1470 - accuracy: 0.9520 - val_loss: 0.1609 - val_accuracy: 0.9538\n",
      "Epoch 48/200\n",
      "840/840 [==============================] - 2s 2ms/step - loss: 0.1464 - accuracy: 0.9525 - val_loss: 0.1592 - val_accuracy: 0.9533\n",
      "Epoch 49/200\n",
      "840/840 [==============================] - 2s 2ms/step - loss: 0.1452 - accuracy: 0.9527 - val_loss: 0.1582 - val_accuracy: 0.9543\n",
      "Epoch 50/200\n",
      "840/840 [==============================] - 2s 2ms/step - loss: 0.1447 - accuracy: 0.9532 - val_loss: 0.1579 - val_accuracy: 0.9548\n",
      "Epoch 51/200\n",
      "840/840 [==============================] - 2s 2ms/step - loss: 0.1437 - accuracy: 0.9538 - val_loss: 0.1588 - val_accuracy: 0.9533\n",
      "Epoch 52/200\n",
      "840/840 [==============================] - 2s 2ms/step - loss: 0.1428 - accuracy: 0.9550 - val_loss: 0.1581 - val_accuracy: 0.9548\n",
      "Epoch 53/200\n",
      "840/840 [==============================] - 2s 2ms/step - loss: 0.1422 - accuracy: 0.9550 - val_loss: 0.1582 - val_accuracy: 0.9533\n",
      "Epoch 54/200\n",
      "840/840 [==============================] - 2s 2ms/step - loss: 0.1416 - accuracy: 0.9555 - val_loss: 0.1577 - val_accuracy: 0.9557\n",
      "Epoch 55/200\n",
      "840/840 [==============================] - 2s 2ms/step - loss: 0.1406 - accuracy: 0.9561 - val_loss: 0.1569 - val_accuracy: 0.9548\n",
      "Epoch 56/200\n",
      "840/840 [==============================] - 2s 2ms/step - loss: 0.1400 - accuracy: 0.9559 - val_loss: 0.1576 - val_accuracy: 0.9552\n",
      "Epoch 57/200\n",
      "840/840 [==============================] - 2s 2ms/step - loss: 0.1393 - accuracy: 0.9571 - val_loss: 0.1572 - val_accuracy: 0.9543\n",
      "Epoch 58/200\n",
      "840/840 [==============================] - 2s 2ms/step - loss: 0.1389 - accuracy: 0.9571 - val_loss: 0.1568 - val_accuracy: 0.9548\n",
      "Epoch 59/200\n",
      "840/840 [==============================] - 2s 2ms/step - loss: 0.1383 - accuracy: 0.9567 - val_loss: 0.1580 - val_accuracy: 0.9538\n",
      "Epoch 60/200\n",
      "840/840 [==============================] - 2s 2ms/step - loss: 0.1380 - accuracy: 0.9564 - val_loss: 0.1574 - val_accuracy: 0.9543\n",
      "Epoch 61/200\n",
      "840/840 [==============================] - 2s 2ms/step - loss: 0.1373 - accuracy: 0.9567 - val_loss: 0.1565 - val_accuracy: 0.9562\n",
      "Epoch 62/200\n",
      "840/840 [==============================] - 2s 2ms/step - loss: 0.1369 - accuracy: 0.9580 - val_loss: 0.1563 - val_accuracy: 0.9552\n",
      "Epoch 63/200\n",
      "840/840 [==============================] - 1s 2ms/step - loss: 0.1364 - accuracy: 0.9582 - val_loss: 0.1566 - val_accuracy: 0.9562\n",
      "Epoch 64/200\n",
      "840/840 [==============================] - 2s 2ms/step - loss: 0.1360 - accuracy: 0.9580 - val_loss: 0.1555 - val_accuracy: 0.9552\n",
      "Epoch 65/200\n",
      "840/840 [==============================] - 2s 2ms/step - loss: 0.1355 - accuracy: 0.9586 - val_loss: 0.1557 - val_accuracy: 0.9562\n",
      "Epoch 66/200\n",
      "840/840 [==============================] - 2s 2ms/step - loss: 0.1353 - accuracy: 0.9575 - val_loss: 0.1554 - val_accuracy: 0.9562\n",
      "Epoch 67/200\n",
      "840/840 [==============================] - 2s 2ms/step - loss: 0.1347 - accuracy: 0.9582 - val_loss: 0.1560 - val_accuracy: 0.9562\n",
      "Epoch 68/200\n",
      "840/840 [==============================] - 2s 2ms/step - loss: 0.1342 - accuracy: 0.9594 - val_loss: 0.1574 - val_accuracy: 0.9529\n",
      "Epoch 69/200\n",
      "840/840 [==============================] - 2s 2ms/step - loss: 0.1340 - accuracy: 0.9588 - val_loss: 0.1554 - val_accuracy: 0.9562\n",
      "Epoch 70/200\n",
      "840/840 [==============================] - 2s 2ms/step - loss: 0.1337 - accuracy: 0.9593 - val_loss: 0.1557 - val_accuracy: 0.9557\n",
      "Epoch 71/200\n",
      "840/840 [==============================] - 2s 2ms/step - loss: 0.1331 - accuracy: 0.9595 - val_loss: 0.1554 - val_accuracy: 0.9562\n",
      "Epoch 72/200\n",
      "840/840 [==============================] - 2s 2ms/step - loss: 0.1329 - accuracy: 0.9595 - val_loss: 0.1557 - val_accuracy: 0.9567\n",
      "Epoch 73/200\n",
      "840/840 [==============================] - 2s 2ms/step - loss: 0.1325 - accuracy: 0.9592 - val_loss: 0.1556 - val_accuracy: 0.9557\n",
      "Epoch 74/200\n",
      "840/840 [==============================] - 2s 2ms/step - loss: 0.1324 - accuracy: 0.9601 - val_loss: 0.1556 - val_accuracy: 0.9538\n",
      "Epoch 75/200\n",
      "840/840 [==============================] - 2s 2ms/step - loss: 0.1320 - accuracy: 0.9609 - val_loss: 0.1556 - val_accuracy: 0.9557\n",
      "Epoch 76/200\n",
      "840/840 [==============================] - 2s 2ms/step - loss: 0.1316 - accuracy: 0.9607 - val_loss: 0.1558 - val_accuracy: 0.9543\n",
      "Epoch 77/200\n",
      "840/840 [==============================] - 2s 2ms/step - loss: 0.1312 - accuracy: 0.9607 - val_loss: 0.1545 - val_accuracy: 0.9562\n",
      "Epoch 78/200\n",
      "840/840 [==============================] - 2s 2ms/step - loss: 0.1312 - accuracy: 0.9612 - val_loss: 0.1561 - val_accuracy: 0.9548\n",
      "Epoch 79/200\n",
      "840/840 [==============================] - 1s 2ms/step - loss: 0.1308 - accuracy: 0.9608 - val_loss: 0.1551 - val_accuracy: 0.9548\n",
      "Epoch 80/200\n",
      "840/840 [==============================] - 1s 1ms/step - loss: 0.1307 - accuracy: 0.9607 - val_loss: 0.1549 - val_accuracy: 0.9552\n",
      "Epoch 81/200\n",
      "840/840 [==============================] - 1s 2ms/step - loss: 0.1305 - accuracy: 0.9611 - val_loss: 0.1547 - val_accuracy: 0.9543\n",
      "Epoch 82/200\n",
      "840/840 [==============================] - 1s 2ms/step - loss: 0.1302 - accuracy: 0.9607 - val_loss: 0.1542 - val_accuracy: 0.9562\n",
      "Epoch 83/200\n",
      "840/840 [==============================] - 1s 2ms/step - loss: 0.1299 - accuracy: 0.9609 - val_loss: 0.1549 - val_accuracy: 0.9562\n",
      "Epoch 84/200\n",
      "840/840 [==============================] - 1s 2ms/step - loss: 0.1298 - accuracy: 0.9611 - val_loss: 0.1541 - val_accuracy: 0.9552\n",
      "Epoch 85/200\n",
      "840/840 [==============================] - 1s 1ms/step - loss: 0.1296 - accuracy: 0.9613 - val_loss: 0.1548 - val_accuracy: 0.9552\n",
      "Epoch 86/200\n",
      "840/840 [==============================] - 1s 2ms/step - loss: 0.1293 - accuracy: 0.9607 - val_loss: 0.1545 - val_accuracy: 0.9552\n",
      "Epoch 87/200\n",
      "840/840 [==============================] - 1s 2ms/step - loss: 0.1291 - accuracy: 0.9619 - val_loss: 0.1540 - val_accuracy: 0.9557\n",
      "Epoch 88/200\n",
      "840/840 [==============================] - 1s 1ms/step - loss: 0.1290 - accuracy: 0.9611 - val_loss: 0.1533 - val_accuracy: 0.9562\n",
      "Epoch 89/200\n",
      "840/840 [==============================] - 1s 2ms/step - loss: 0.1288 - accuracy: 0.9615 - val_loss: 0.1532 - val_accuracy: 0.9567\n",
      "Epoch 90/200\n",
      "840/840 [==============================] - 1s 2ms/step - loss: 0.1288 - accuracy: 0.9621 - val_loss: 0.1541 - val_accuracy: 0.9557\n",
      "Epoch 91/200\n",
      "840/840 [==============================] - 1s 2ms/step - loss: 0.1283 - accuracy: 0.9611 - val_loss: 0.1548 - val_accuracy: 0.9552\n",
      "Epoch 92/200\n",
      "840/840 [==============================] - 1s 1ms/step - loss: 0.1282 - accuracy: 0.9618 - val_loss: 0.1537 - val_accuracy: 0.9557\n",
      "Epoch 93/200\n",
      "840/840 [==============================] - 1s 1ms/step - loss: 0.1281 - accuracy: 0.9620 - val_loss: 0.1540 - val_accuracy: 0.9557\n",
      "Epoch 94/200\n",
      "840/840 [==============================] - 1s 2ms/step - loss: 0.1279 - accuracy: 0.9618 - val_loss: 0.1539 - val_accuracy: 0.9557\n",
      "Epoch 95/200\n",
      "840/840 [==============================] - 1s 2ms/step - loss: 0.1277 - accuracy: 0.9624 - val_loss: 0.1540 - val_accuracy: 0.9562\n",
      "Epoch 96/200\n",
      "840/840 [==============================] - 1s 2ms/step - loss: 0.1276 - accuracy: 0.9620 - val_loss: 0.1530 - val_accuracy: 0.9562\n",
      "Epoch 97/200\n",
      "840/840 [==============================] - 1s 2ms/step - loss: 0.1274 - accuracy: 0.9618 - val_loss: 0.1530 - val_accuracy: 0.9552\n",
      "Epoch 98/200\n",
      "840/840 [==============================] - 1s 1ms/step - loss: 0.1274 - accuracy: 0.9620 - val_loss: 0.1526 - val_accuracy: 0.9557\n",
      "Epoch 99/200\n",
      "840/840 [==============================] - 1s 1ms/step - loss: 0.1272 - accuracy: 0.9620 - val_loss: 0.1531 - val_accuracy: 0.9562\n",
      "Epoch 100/200\n",
      "840/840 [==============================] - 1s 1ms/step - loss: 0.1270 - accuracy: 0.9617 - val_loss: 0.1538 - val_accuracy: 0.9562\n",
      "Epoch 101/200\n",
      "840/840 [==============================] - 1s 1ms/step - loss: 0.1270 - accuracy: 0.9627 - val_loss: 0.1530 - val_accuracy: 0.9571\n",
      "Epoch 102/200\n",
      "840/840 [==============================] - 1s 2ms/step - loss: 0.1267 - accuracy: 0.9620 - val_loss: 0.1529 - val_accuracy: 0.9557\n",
      "Epoch 103/200\n",
      "840/840 [==============================] - 1s 2ms/step - loss: 0.1264 - accuracy: 0.9624 - val_loss: 0.1529 - val_accuracy: 0.9567\n",
      "Epoch 104/200\n",
      "840/840 [==============================] - 1s 2ms/step - loss: 0.1265 - accuracy: 0.9629 - val_loss: 0.1534 - val_accuracy: 0.9562\n",
      "Epoch 105/200\n",
      "840/840 [==============================] - 2s 2ms/step - loss: 0.1262 - accuracy: 0.9619 - val_loss: 0.1525 - val_accuracy: 0.9567\n",
      "Epoch 106/200\n",
      "840/840 [==============================] - 1s 1ms/step - loss: 0.1262 - accuracy: 0.9634 - val_loss: 0.1526 - val_accuracy: 0.9557\n",
      "Epoch 107/200\n",
      "840/840 [==============================] - 1s 2ms/step - loss: 0.1260 - accuracy: 0.9624 - val_loss: 0.1528 - val_accuracy: 0.9557\n",
      "Epoch 108/200\n",
      "840/840 [==============================] - 1s 2ms/step - loss: 0.1257 - accuracy: 0.9624 - val_loss: 0.1515 - val_accuracy: 0.9557\n",
      "Epoch 109/200\n",
      "840/840 [==============================] - 1s 2ms/step - loss: 0.1257 - accuracy: 0.9631 - val_loss: 0.1527 - val_accuracy: 0.9571\n",
      "Epoch 110/200\n",
      "840/840 [==============================] - 1s 2ms/step - loss: 0.1257 - accuracy: 0.9623 - val_loss: 0.1512 - val_accuracy: 0.9576\n",
      "Epoch 111/200\n",
      "840/840 [==============================] - 1s 2ms/step - loss: 0.1256 - accuracy: 0.9625 - val_loss: 0.1526 - val_accuracy: 0.9567\n",
      "Epoch 112/200\n",
      "840/840 [==============================] - 1s 1ms/step - loss: 0.1253 - accuracy: 0.9631 - val_loss: 0.1534 - val_accuracy: 0.9571\n",
      "Epoch 113/200\n",
      "840/840 [==============================] - 1s 2ms/step - loss: 0.1251 - accuracy: 0.9631 - val_loss: 0.1514 - val_accuracy: 0.9562\n",
      "Epoch 114/200\n",
      "840/840 [==============================] - 1s 1ms/step - loss: 0.1251 - accuracy: 0.9624 - val_loss: 0.1531 - val_accuracy: 0.9571\n",
      "Epoch 115/200\n",
      "840/840 [==============================] - 1s 1ms/step - loss: 0.1251 - accuracy: 0.9633 - val_loss: 0.1521 - val_accuracy: 0.9567\n",
      "Epoch 116/200\n",
      "840/840 [==============================] - 1s 1ms/step - loss: 0.1251 - accuracy: 0.9633 - val_loss: 0.1518 - val_accuracy: 0.9576\n",
      "Epoch 117/200\n",
      "840/840 [==============================] - 1s 1ms/step - loss: 0.1246 - accuracy: 0.9625 - val_loss: 0.1530 - val_accuracy: 0.9562\n",
      "Epoch 118/200\n",
      "840/840 [==============================] - 1s 2ms/step - loss: 0.1246 - accuracy: 0.9637 - val_loss: 0.1533 - val_accuracy: 0.9562\n",
      "Epoch 119/200\n",
      "840/840 [==============================] - 1s 1ms/step - loss: 0.1248 - accuracy: 0.9630 - val_loss: 0.1524 - val_accuracy: 0.9571\n",
      "Epoch 120/200\n",
      "840/840 [==============================] - 1s 1ms/step - loss: 0.1246 - accuracy: 0.9630 - val_loss: 0.1515 - val_accuracy: 0.9557\n",
      "Epoch 121/200\n",
      "840/840 [==============================] - 1s 1ms/step - loss: 0.1245 - accuracy: 0.9633 - val_loss: 0.1509 - val_accuracy: 0.9562\n",
      "Epoch 122/200\n",
      "840/840 [==============================] - 1s 1ms/step - loss: 0.1243 - accuracy: 0.9633 - val_loss: 0.1513 - val_accuracy: 0.9576\n",
      "Epoch 123/200\n",
      "840/840 [==============================] - 1s 1ms/step - loss: 0.1241 - accuracy: 0.9636 - val_loss: 0.1504 - val_accuracy: 0.9567\n",
      "Epoch 124/200\n",
      "840/840 [==============================] - 1s 2ms/step - loss: 0.1241 - accuracy: 0.9637 - val_loss: 0.1506 - val_accuracy: 0.9571\n",
      "Epoch 125/200\n",
      "840/840 [==============================] - 1s 1ms/step - loss: 0.1238 - accuracy: 0.9637 - val_loss: 0.1507 - val_accuracy: 0.9576\n",
      "Epoch 126/200\n",
      "840/840 [==============================] - 1s 2ms/step - loss: 0.1238 - accuracy: 0.9632 - val_loss: 0.1515 - val_accuracy: 0.9571\n",
      "Epoch 127/200\n",
      "840/840 [==============================] - 1s 2ms/step - loss: 0.1239 - accuracy: 0.9637 - val_loss: 0.1503 - val_accuracy: 0.9576\n",
      "Epoch 128/200\n",
      "840/840 [==============================] - 1s 1ms/step - loss: 0.1236 - accuracy: 0.9633 - val_loss: 0.1506 - val_accuracy: 0.9581\n",
      "Epoch 129/200\n",
      "840/840 [==============================] - 1s 1ms/step - loss: 0.1236 - accuracy: 0.9637 - val_loss: 0.1514 - val_accuracy: 0.9576\n",
      "Epoch 130/200\n",
      "840/840 [==============================] - 1s 2ms/step - loss: 0.1233 - accuracy: 0.9637 - val_loss: 0.1522 - val_accuracy: 0.9571\n",
      "Epoch 131/200\n",
      "840/840 [==============================] - 1s 2ms/step - loss: 0.1235 - accuracy: 0.9636 - val_loss: 0.1513 - val_accuracy: 0.9571\n",
      "Epoch 132/200\n",
      "840/840 [==============================] - 1s 2ms/step - loss: 0.1232 - accuracy: 0.9634 - val_loss: 0.1502 - val_accuracy: 0.9571\n",
      "Epoch 133/200\n",
      "840/840 [==============================] - 1s 2ms/step - loss: 0.1230 - accuracy: 0.9637 - val_loss: 0.1508 - val_accuracy: 0.9581\n",
      "Epoch 134/200\n",
      "840/840 [==============================] - 1s 2ms/step - loss: 0.1228 - accuracy: 0.9642 - val_loss: 0.1500 - val_accuracy: 0.9576\n",
      "Epoch 135/200\n",
      "840/840 [==============================] - 1s 1ms/step - loss: 0.1229 - accuracy: 0.9642 - val_loss: 0.1521 - val_accuracy: 0.9571\n",
      "Epoch 136/200\n",
      "840/840 [==============================] - 1s 1ms/step - loss: 0.1227 - accuracy: 0.9646 - val_loss: 0.1492 - val_accuracy: 0.9562\n",
      "Epoch 137/200\n",
      "840/840 [==============================] - 1s 2ms/step - loss: 0.1227 - accuracy: 0.9636 - val_loss: 0.1494 - val_accuracy: 0.9562\n",
      "Epoch 138/200\n",
      "840/840 [==============================] - 1s 2ms/step - loss: 0.1225 - accuracy: 0.9646 - val_loss: 0.1515 - val_accuracy: 0.9567\n",
      "Epoch 139/200\n",
      "840/840 [==============================] - 1s 1ms/step - loss: 0.1225 - accuracy: 0.9639 - val_loss: 0.1495 - val_accuracy: 0.9576\n",
      "Epoch 140/200\n",
      "840/840 [==============================] - 1s 1ms/step - loss: 0.1226 - accuracy: 0.9637 - val_loss: 0.1497 - val_accuracy: 0.9576\n",
      "Epoch 141/200\n",
      "840/840 [==============================] - 1s 1ms/step - loss: 0.1222 - accuracy: 0.9643 - val_loss: 0.1503 - val_accuracy: 0.9576\n",
      "Epoch 142/200\n",
      "840/840 [==============================] - 1s 2ms/step - loss: 0.1221 - accuracy: 0.9643 - val_loss: 0.1497 - val_accuracy: 0.9571\n",
      "Epoch 143/200\n",
      "840/840 [==============================] - 1s 895us/step - loss: 0.1220 - accuracy: 0.9640 - val_loss: 0.1508 - val_accuracy: 0.9571\n",
      "Epoch 144/200\n",
      "840/840 [==============================] - 1s 1ms/step - loss: 0.1219 - accuracy: 0.9638 - val_loss: 0.1507 - val_accuracy: 0.9581\n",
      "Epoch 145/200\n",
      "840/840 [==============================] - 1s 1ms/step - loss: 0.1219 - accuracy: 0.9638 - val_loss: 0.1510 - val_accuracy: 0.9567\n",
      "Epoch 146/200\n",
      "840/840 [==============================] - 1s 1ms/step - loss: 0.1216 - accuracy: 0.9644 - val_loss: 0.1489 - val_accuracy: 0.9571\n",
      "Epoch 147/200\n",
      "840/840 [==============================] - 1s 1ms/step - loss: 0.1215 - accuracy: 0.9643 - val_loss: 0.1497 - val_accuracy: 0.9576\n",
      "Epoch 148/200\n",
      "840/840 [==============================] - 1s 1ms/step - loss: 0.1215 - accuracy: 0.9645 - val_loss: 0.1518 - val_accuracy: 0.9576\n",
      "Epoch 149/200\n",
      "840/840 [==============================] - 1s 1ms/step - loss: 0.1214 - accuracy: 0.9642 - val_loss: 0.1506 - val_accuracy: 0.9567\n",
      "Epoch 150/200\n",
      "840/840 [==============================] - 1s 2ms/step - loss: 0.1213 - accuracy: 0.9642 - val_loss: 0.1492 - val_accuracy: 0.9571\n",
      "Epoch 151/200\n",
      "840/840 [==============================] - 1s 2ms/step - loss: 0.1213 - accuracy: 0.9646 - val_loss: 0.1503 - val_accuracy: 0.9567\n",
      "Epoch 152/200\n",
      "840/840 [==============================] - 1s 1ms/step - loss: 0.1213 - accuracy: 0.9650 - val_loss: 0.1511 - val_accuracy: 0.9571\n",
      "Epoch 153/200\n",
      "840/840 [==============================] - 1s 1ms/step - loss: 0.1211 - accuracy: 0.9640 - val_loss: 0.1496 - val_accuracy: 0.9567\n",
      "Epoch 154/200\n",
      "840/840 [==============================] - 1s 2ms/step - loss: 0.1208 - accuracy: 0.9646 - val_loss: 0.1502 - val_accuracy: 0.9571\n",
      "Epoch 155/200\n",
      "840/840 [==============================] - 1s 1ms/step - loss: 0.1208 - accuracy: 0.9646 - val_loss: 0.1506 - val_accuracy: 0.9562\n",
      "Epoch 156/200\n",
      "840/840 [==============================] - 1s 1ms/step - loss: 0.1206 - accuracy: 0.9651 - val_loss: 0.1496 - val_accuracy: 0.9571\n",
      "Epoch 157/200\n",
      "840/840 [==============================] - 1s 2ms/step - loss: 0.1205 - accuracy: 0.9651 - val_loss: 0.1512 - val_accuracy: 0.9567\n",
      "Epoch 158/200\n",
      "840/840 [==============================] - 1s 2ms/step - loss: 0.1206 - accuracy: 0.9648 - val_loss: 0.1500 - val_accuracy: 0.9567\n",
      "Epoch 159/200\n",
      "840/840 [==============================] - 1s 1ms/step - loss: 0.1201 - accuracy: 0.9661 - val_loss: 0.1513 - val_accuracy: 0.9557\n",
      "Epoch 160/200\n",
      "840/840 [==============================] - 1s 2ms/step - loss: 0.1203 - accuracy: 0.9652 - val_loss: 0.1495 - val_accuracy: 0.9567\n",
      "Epoch 161/200\n",
      "840/840 [==============================] - 1s 1ms/step - loss: 0.1201 - accuracy: 0.9654 - val_loss: 0.1515 - val_accuracy: 0.9571\n",
      "Epoch 162/200\n",
      "840/840 [==============================] - 1s 2ms/step - loss: 0.1200 - accuracy: 0.9649 - val_loss: 0.1501 - val_accuracy: 0.9562\n",
      "Epoch 163/200\n",
      "840/840 [==============================] - 1s 2ms/step - loss: 0.1199 - accuracy: 0.9651 - val_loss: 0.1499 - val_accuracy: 0.9562\n",
      "Epoch 164/200\n",
      "840/840 [==============================] - 1s 2ms/step - loss: 0.1197 - accuracy: 0.9656 - val_loss: 0.1520 - val_accuracy: 0.9576\n",
      "Epoch 165/200\n",
      "840/840 [==============================] - 1s 1ms/step - loss: 0.1197 - accuracy: 0.9649 - val_loss: 0.1507 - val_accuracy: 0.9557\n",
      "Epoch 166/200\n",
      "840/840 [==============================] - 1s 1ms/step - loss: 0.1195 - accuracy: 0.9656 - val_loss: 0.1507 - val_accuracy: 0.9571\n",
      "Epoch 167/200\n",
      "840/840 [==============================] - 1s 2ms/step - loss: 0.1195 - accuracy: 0.9655 - val_loss: 0.1509 - val_accuracy: 0.9571\n",
      "Epoch 168/200\n",
      "840/840 [==============================] - 1s 2ms/step - loss: 0.1194 - accuracy: 0.9658 - val_loss: 0.1497 - val_accuracy: 0.9562\n",
      "Epoch 169/200\n",
      "840/840 [==============================] - 1s 1ms/step - loss: 0.1192 - accuracy: 0.9658 - val_loss: 0.1516 - val_accuracy: 0.9571\n",
      "Epoch 170/200\n",
      "840/840 [==============================] - 1s 2ms/step - loss: 0.1193 - accuracy: 0.9652 - val_loss: 0.1503 - val_accuracy: 0.9567\n",
      "Epoch 171/200\n",
      "840/840 [==============================] - 2s 2ms/step - loss: 0.1191 - accuracy: 0.9656 - val_loss: 0.1521 - val_accuracy: 0.9571\n",
      "Epoch 172/200\n",
      "840/840 [==============================] - 1s 1ms/step - loss: 0.1189 - accuracy: 0.9655 - val_loss: 0.1504 - val_accuracy: 0.9562\n",
      "Epoch 173/200\n",
      "840/840 [==============================] - 1s 1ms/step - loss: 0.1189 - accuracy: 0.9663 - val_loss: 0.1509 - val_accuracy: 0.9562\n",
      "Epoch 174/200\n",
      "840/840 [==============================] - 1s 2ms/step - loss: 0.1188 - accuracy: 0.9659 - val_loss: 0.1518 - val_accuracy: 0.9576\n",
      "Epoch 175/200\n",
      "840/840 [==============================] - 1s 1ms/step - loss: 0.1187 - accuracy: 0.9662 - val_loss: 0.1514 - val_accuracy: 0.9576\n",
      "Epoch 176/200\n",
      "840/840 [==============================] - 1s 1ms/step - loss: 0.1187 - accuracy: 0.9661 - val_loss: 0.1509 - val_accuracy: 0.9571\n",
      "Epoch 177/200\n",
      "840/840 [==============================] - 1s 2ms/step - loss: 0.1185 - accuracy: 0.9659 - val_loss: 0.1514 - val_accuracy: 0.9571\n",
      "Epoch 178/200\n",
      "840/840 [==============================] - 1s 1ms/step - loss: 0.1185 - accuracy: 0.9656 - val_loss: 0.1510 - val_accuracy: 0.9576\n",
      "Epoch 179/200\n",
      "840/840 [==============================] - 1s 1ms/step - loss: 0.1182 - accuracy: 0.9667 - val_loss: 0.1506 - val_accuracy: 0.9562\n",
      "Epoch 180/200\n",
      "840/840 [==============================] - 1s 1ms/step - loss: 0.1183 - accuracy: 0.9658 - val_loss: 0.1509 - val_accuracy: 0.9567\n",
      "Epoch 181/200\n",
      "840/840 [==============================] - 1s 1ms/step - loss: 0.1180 - accuracy: 0.9656 - val_loss: 0.1504 - val_accuracy: 0.9576\n",
      "Epoch 182/200\n",
      "840/840 [==============================] - 1s 2ms/step - loss: 0.1180 - accuracy: 0.9662 - val_loss: 0.1514 - val_accuracy: 0.9576\n",
      "Epoch 183/200\n",
      "840/840 [==============================] - 1s 1ms/step - loss: 0.1181 - accuracy: 0.9654 - val_loss: 0.1512 - val_accuracy: 0.9571\n",
      "Epoch 184/200\n",
      "840/840 [==============================] - 1s 1ms/step - loss: 0.1179 - accuracy: 0.9658 - val_loss: 0.1509 - val_accuracy: 0.9567\n",
      "Epoch 185/200\n",
      "840/840 [==============================] - 1s 1ms/step - loss: 0.1176 - accuracy: 0.9663 - val_loss: 0.1516 - val_accuracy: 0.9576\n",
      "Epoch 186/200\n",
      "840/840 [==============================] - 1s 1ms/step - loss: 0.1178 - accuracy: 0.9661 - val_loss: 0.1515 - val_accuracy: 0.9567\n",
      "Epoch 187/200\n",
      "840/840 [==============================] - 1s 1ms/step - loss: 0.1175 - accuracy: 0.9665 - val_loss: 0.1517 - val_accuracy: 0.9576\n",
      "Epoch 188/200\n",
      "840/840 [==============================] - 1s 1ms/step - loss: 0.1176 - accuracy: 0.9662 - val_loss: 0.1505 - val_accuracy: 0.9567\n",
      "Epoch 189/200\n",
      "840/840 [==============================] - 1s 1ms/step - loss: 0.1173 - accuracy: 0.9669 - val_loss: 0.1526 - val_accuracy: 0.9567\n",
      "Epoch 190/200\n",
      "840/840 [==============================] - 1s 1ms/step - loss: 0.1172 - accuracy: 0.9665 - val_loss: 0.1507 - val_accuracy: 0.9567\n",
      "Epoch 191/200\n",
      "840/840 [==============================] - 1s 1ms/step - loss: 0.1173 - accuracy: 0.9663 - val_loss: 0.1504 - val_accuracy: 0.9576\n",
      "Epoch 192/200\n",
      "840/840 [==============================] - 1s 1ms/step - loss: 0.1172 - accuracy: 0.9665 - val_loss: 0.1527 - val_accuracy: 0.9576\n",
      "Epoch 193/200\n",
      "840/840 [==============================] - 1s 1ms/step - loss: 0.1169 - accuracy: 0.9675 - val_loss: 0.1502 - val_accuracy: 0.9571\n",
      "Epoch 194/200\n",
      "840/840 [==============================] - 1s 1ms/step - loss: 0.1170 - accuracy: 0.9661 - val_loss: 0.1514 - val_accuracy: 0.9581\n",
      "Epoch 195/200\n",
      "840/840 [==============================] - 1s 1ms/step - loss: 0.1170 - accuracy: 0.9668 - val_loss: 0.1508 - val_accuracy: 0.9571\n",
      "Epoch 196/200\n",
      "840/840 [==============================] - 1s 1ms/step - loss: 0.1167 - accuracy: 0.9668 - val_loss: 0.1528 - val_accuracy: 0.9567\n",
      "Epoch 197/200\n",
      "840/840 [==============================] - 1s 1ms/step - loss: 0.1168 - accuracy: 0.9664 - val_loss: 0.1515 - val_accuracy: 0.9567\n",
      "Epoch 198/200\n",
      "840/840 [==============================] - 1s 1ms/step - loss: 0.1167 - accuracy: 0.9675 - val_loss: 0.1510 - val_accuracy: 0.9571\n",
      "Epoch 199/200\n",
      "840/840 [==============================] - 1s 1ms/step - loss: 0.1163 - accuracy: 0.9668 - val_loss: 0.1525 - val_accuracy: 0.9571\n",
      "Epoch 200/200\n",
      "840/840 [==============================] - 1s 1ms/step - loss: 0.1165 - accuracy: 0.9667 - val_loss: 0.1509 - val_accuracy: 0.9571\n"
     ]
    }
   ],
   "metadata": {}
  },
  {
   "cell_type": "code",
   "execution_count": 40,
   "source": [
    "y_predict = classifier.predict(X_test)\r\n",
    "y_predict = y_predict>0.5"
   ],
   "outputs": [],
   "metadata": {}
  },
  {
   "cell_type": "code",
   "execution_count": 41,
   "source": [
    "pd.DataFrame(ann_classifier.history).plot(figsize=(8,6))\r\n",
    "plt.grid(True)\r\n",
    "plt.show()"
   ],
   "outputs": [
    {
     "output_type": "display_data",
     "data": {
      "image/png": "[encoded data removed]",
      "text/plain": [
       "<Figure size 576x432 with 1 Axes>"
      ]
     },
     "metadata": {
      "needs_background": "light"
     }
    }
   ],
   "metadata": {}
  },
  {
   "cell_type": "code",
   "execution_count": 42,
   "source": [
    "print(\"Accuracy of ANN Classifier : \", round(accuracy_score(y_test, y_predict)*100), \"%\")"
   ],
   "outputs": [
    {
     "output_type": "stream",
     "name": "stdout",
     "text": [
      "Accuracy of ANN Classifier :  96.0 %\n"
     ]
    }
   ],
   "metadata": {}
  },
  {
   "cell_type": "code",
   "execution_count": 43,
   "source": [
    "print(\"Accuracy of All Models : \")\r\n",
    "\r\n",
    "print(\"Accuracy of SVM Classifier : \", accuracy_score(y_test, svc_classifier.predict(X_test))*100, \"%\")\r\n",
    "print(\"Accuracy of Logistic Regression Classifier : \", accuracy_score(y_test, lr_classifier.predict(X_test))*100, \"%\")\r\n",
    "print(\"Accuracy of KNN Classifier : \", accuracy_score(y_test, lr_classifier.predict(X_test))*100, \"%\")\r\n",
    "print(\"Accuracy of Random Forest Classifier : \", accuracy_score(y_test, rf_classifier.predict(X_test))*100, \"%\")\r\n",
    "print(\"Accuracy of XGBoost Classifier : \", accuracy_score(y_test, xgb_classifier.predict(X_test))*100, \"%\")\r\n",
    "print(\"Accuracy of ANN Classifier : \", accuracy_score(y_test, y_predict)*100, \"%\")"
   ],
   "outputs": [
    {
     "output_type": "stream",
     "name": "stdout",
     "text": [
      "Accuracy of All Models : \n",
      "Accuracy of SVM Classifier :  94.97777777777779 %\n",
      "Accuracy of Logistic Regression Classifier :  79.35555555555555 %\n",
      "Accuracy of KNN Classifier :  79.35555555555555 %\n",
      "Accuracy of Random Forest Classifier :  98.93333333333332 %\n",
      "Accuracy of XGBoost Classifier :  98.6 %\n",
      "Accuracy of ANN Classifier :  95.8 %\n"
     ]
    }
   ],
   "metadata": {}
  },
  {
   "cell_type": "markdown",
   "source": [
    "## Saving the best model"
   ],
   "metadata": {}
  },
  {
   "cell_type": "code",
   "execution_count": 46,
   "source": [
    "pickle.dump(rf_classifier, open(\"hr_analytics_model.pkl\",'wb'))"
   ],
   "outputs": [],
   "metadata": {}
  }
 ],
 "metadata": {
  "orig_nbformat": 4,
  "language_info": {
   "name": "python",
   "version": "3.8.3",
   "mimetype": "text/x-python",
   "codemirror_mode": {
    "name": "ipython",
    "version": 3
   },
   "pygments_lexer": "ipython3",
   "nbconvert_exporter": "python",
   "file_extension": ".py"
  },
  "kernelspec": {
   "name": "python3",
   "display_name": "Python 3.8.3 64-bit"
  },
  "interpreter": {
   "hash": "9ddfba760c93d0781cb88c4db9a31eb68ca4e1616821530f19d735f356a5c9ec"
  }
 },
 "nbformat": 4,
 "nbformat_minor": 2
}